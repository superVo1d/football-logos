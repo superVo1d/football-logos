{
 "cells": [
  {
   "cell_type": "markdown",
   "id": "fb69383b-0bf7-45ab-a17c-1c85c3f21eb5",
   "metadata": {},
   "source": [
    "# Поиск футбольных логотипов для городов России\n",
    "\n",
    "**Цель**: получить для разных городов России логотипы местных футбольных команд.\n",
    "\n",
    "\n",
    "**Задачи**:\n",
    "\n",
    "- Запросить информацию о всех футбольных клубах России, включая их логотипы и города базирования из Wikidata.\n",
    "\n",
    "- Для тех клубов, для которых нет логтипа на Wikidata (большинство), найти недостающие на странице Wikipedia.\n",
    "\n",
    "- Очистить данные, оставив в выборке только футбольные команды ассоциированные с городами и у которых есть логотип."
   ]
  },
  {
   "cell_type": "markdown",
   "id": "953d059c-1a70-4934-a984-f33e4f653ade",
   "metadata": {},
   "source": [
    "## Импорт библиотек"
   ]
  },
  {
   "cell_type": "code",
   "execution_count": 173,
   "id": "0e06bec4-c719-4e1e-ba58-58edcab2644a",
   "metadata": {
    "tags": []
   },
   "outputs": [],
   "source": [
    "import requests\n",
    "from SPARQLWrapper import SPARQLWrapper, JSON\n",
    "import pandas as pd\n",
    "from time import sleep\n",
    "from tqdm import tqdm"
   ]
  },
  {
   "cell_type": "markdown",
   "id": "2d8ab597-5756-484c-a763-95af2659ccab",
   "metadata": {},
   "source": [
    "## Парсинг данных"
   ]
  },
  {
   "cell_type": "code",
   "execution_count": 165,
   "id": "0de6e782-a04d-4878-93c0-b9f50169f6e8",
   "metadata": {
    "tags": []
   },
   "outputs": [],
   "source": [
    "def fetch_wikidata_football_clubs():\n",
    "    \"\"\"\n",
    "    Запрашивает у Wikidata информацию по футбольным клубам России.\n",
    "    Название команды, логотип, город и название статьи в российской википедии, если такая есть.\n",
    "    \"\"\"\n",
    "    endpoint = \"https://query.wikidata.org/sparql\"\n",
    "    query = \"\"\"\n",
    "    SELECT DISTINCT ?team ?teamLabel ?wikiPage ?logo ?hqLocationLabel ?countryLabel WHERE {\n",
    "      ?team wdt:P31 wd:Q476028;                # Instance of football club\n",
    "            wdt:P17 wd:Q159;                   # Located in Russia (Russia = Q159)\n",
    "            wdt:P17 ?country.\n",
    "      OPTIONAL { ?team wdt:P154 ?logo. }       # Logo (if exists)\n",
    "      OPTIONAL { ?team wdt:P159 ?hqLocation. } # Headquarters location (city)\n",
    "      OPTIONAL {\n",
    "          ?wikipediaArticle schema:about ?team ;\n",
    "                            schema:isPartOf <https://ru.wikipedia.org/> ;\n",
    "                            schema:name ?wikiPage.  # Russian Wikipedia page title\n",
    "      }\n",
    "      SERVICE wikibase:label { bd:serviceParam wikibase:language \"ru\". }\n",
    "    }\n",
    "    \"\"\"\n",
    "    sparql = SPARQLWrapper(endpoint)\n",
    "    sparql.setQuery(query)\n",
    "    sparql.setReturnFormat(JSON)\n",
    "\n",
    "    results = sparql.query().convert()\n",
    "    teams = []\n",
    "\n",
    "    for result in results[\"results\"][\"bindings\"]:\n",
    "        team = {\n",
    "            \"teamLabel\": result[\"teamLabel\"][\"value\"],\n",
    "            \"logo\": result.get(\"logo\", {}).get(\"value\", None),  # Optional logo\n",
    "            \"city\": result.get(\"hqLocationLabel\", {}).get(\"value\", None),\n",
    "            \"country\": result.get(\"countryLabel\", {}).get(\"value\", None),            \n",
    "            \"wikiPage\": result.get(\"wikiPage\", {}).get(\"value\", None),\n",
    "        }\n",
    "        teams.append(team)\n",
    "\n",
    "    return teams"
   ]
  },
  {
   "cell_type": "code",
   "execution_count": 212,
   "id": "91eceb14-4237-4f5b-a407-f4afdbaad41b",
   "metadata": {
    "tags": []
   },
   "outputs": [],
   "source": [
    "def fetch_wikipedia_logo(wiki_page):\n",
    "    \"\"\"\n",
    "    Ищет на странице футбольной команды в Википедии логотип.\n",
    "    \"\"\"\n",
    "    endpoint = \"https://ru.wikipedia.org/w/api.php\"\n",
    "    params = {\n",
    "        \"action\": \"parse\",\n",
    "        \"page\": wiki_page,\n",
    "        \"prop\": \"images\",\n",
    "        \"format\": \"json\",\n",
    "    }\n",
    "\n",
    "    response = requests.get(endpoint, params=params)\n",
    "    if response.status_code == 200:\n",
    "        data = response.json()\n",
    "        images = data.get(\"parse\", {}).get(\"images\", [])\n",
    "        logo_images = [img for img in images if 'logo' in img.lower() and not 'Notification-icon-Commons-logo' in img]  # Filter images containing 'logo'\n",
    "        if logo_images:\n",
    "            return logo_images[0]  # Return the first logo image\n",
    "    else:\n",
    "        print(f\"Failed to fetch Wikipedia page for {wiki_page}\")\n",
    "        return None"
   ]
  },
  {
   "cell_type": "code",
   "execution_count": 213,
   "id": "2b827044-212b-475a-be4a-4de98f1fe584",
   "metadata": {
    "tags": []
   },
   "outputs": [],
   "source": [
    "# Шаг 1: Получаем данные о футбольных командах из Wikidata\n",
    "clubs = fetch_wikidata_football_clubs()"
   ]
  },
  {
   "cell_type": "code",
   "execution_count": 214,
   "id": "217baa85-5e22-4f5f-b4e2-47325fdbd03a",
   "metadata": {
    "tags": []
   },
   "outputs": [
    {
     "name": "stdout",
     "output_type": "stream",
     "text": [
      "{'teamLabel': 'Булат (футбольный клуб, Череповец)', 'logo': None, 'city': None, 'country': 'Россия', 'wikiPage': 'Булат (футбольный клуб, Череповец)'}\n"
     ]
    }
   ],
   "source": [
    "print(clubs[0])"
   ]
  },
  {
   "cell_type": "markdown",
   "id": "e58e21da-7872-4f44-9434-cddf4b7ddc39",
   "metadata": {},
   "source": [
    "Всего клубов:"
   ]
  },
  {
   "cell_type": "code",
   "execution_count": 215,
   "id": "f37de560-f01c-48ae-81cb-28e64f0992b6",
   "metadata": {
    "tags": []
   },
   "outputs": [
    {
     "data": {
      "text/plain": [
       "554"
      ]
     },
     "execution_count": 215,
     "metadata": {},
     "output_type": "execute_result"
    }
   ],
   "source": [
    "len(clubs)"
   ]
  },
  {
   "cell_type": "code",
   "execution_count": 216,
   "id": "87234281-90fa-4f59-8b58-991d9dcd7df5",
   "metadata": {
    "tags": []
   },
   "outputs": [
    {
     "name": "stderr",
     "output_type": "stream",
     "text": [
      "100%|█████████████████████████████████████████| 554/554 [05:35<00:00,  1.65it/s]\n"
     ]
    }
   ],
   "source": [
    "# Шаг 2: Получаем недостающие логотипы команд из Wikipedia\n",
    "\n",
    "for club in tqdm(clubs):\n",
    "    if not club[\"logo\"]:\n",
    "        wiki_page_title = club[\"wikiPage\"]\n",
    "        sleep(0.2)\n",
    "        img = fetch_wikipedia_logo(wiki_page_title)\n",
    "        if img:\n",
    "            club[\"logo\"] = f'https://ru.wikipedia.org/wiki/Special:FilePath/{img}'"
   ]
  },
  {
   "cell_type": "code",
   "execution_count": 217,
   "id": "0644e902-4f9d-41c3-82ac-25fb006df122",
   "metadata": {
    "tags": []
   },
   "outputs": [
    {
     "data": {
      "text/html": [
       "<div>\n",
       "<style scoped>\n",
       "    .dataframe tbody tr th:only-of-type {\n",
       "        vertical-align: middle;\n",
       "    }\n",
       "\n",
       "    .dataframe tbody tr th {\n",
       "        vertical-align: top;\n",
       "    }\n",
       "\n",
       "    .dataframe thead th {\n",
       "        text-align: right;\n",
       "    }\n",
       "</style>\n",
       "<table border=\"1\" class=\"dataframe\">\n",
       "  <thead>\n",
       "    <tr style=\"text-align: right;\">\n",
       "      <th></th>\n",
       "      <th>teamLabel</th>\n",
       "      <th>logo</th>\n",
       "      <th>city</th>\n",
       "      <th>country</th>\n",
       "      <th>wikiPage</th>\n",
       "    </tr>\n",
       "  </thead>\n",
       "  <tbody>\n",
       "    <tr>\n",
       "      <th>40</th>\n",
       "      <td>Галакс (футбольный клуб)</td>\n",
       "      <td>None</td>\n",
       "      <td>None</td>\n",
       "      <td>Россия</td>\n",
       "      <td>Галакс</td>\n",
       "    </tr>\n",
       "    <tr>\n",
       "      <th>404</th>\n",
       "      <td>Горняк</td>\n",
       "      <td>None</td>\n",
       "      <td>None</td>\n",
       "      <td>Россия</td>\n",
       "      <td>Горняк (футбольный клуб, Качканар)</td>\n",
       "    </tr>\n",
       "    <tr>\n",
       "      <th>509</th>\n",
       "      <td>Локомотив-КМВ</td>\n",
       "      <td>None</td>\n",
       "      <td>None</td>\n",
       "      <td>Россия</td>\n",
       "      <td>Локомотив (футбольный клуб, Минеральные Воды)</td>\n",
       "    </tr>\n",
       "    <tr>\n",
       "      <th>296</th>\n",
       "      <td>Акрон-2</td>\n",
       "      <td>https://ru.wikipedia.org/wiki/Special:FilePath...</td>\n",
       "      <td>None</td>\n",
       "      <td>Россия</td>\n",
       "      <td>Акрон-2</td>\n",
       "    </tr>\n",
       "    <tr>\n",
       "      <th>277</th>\n",
       "      <td>Красный-СГАФКСТ</td>\n",
       "      <td>https://ru.wikipedia.org/wiki/Special:FilePath...</td>\n",
       "      <td>Смоленск</td>\n",
       "      <td>Россия</td>\n",
       "      <td>Красный (футбольный клуб)</td>\n",
       "    </tr>\n",
       "    <tr>\n",
       "      <th>313</th>\n",
       "      <td>Дагдизель</td>\n",
       "      <td>https://ru.wikipedia.org/wiki/Special:FilePath...</td>\n",
       "      <td>None</td>\n",
       "      <td>Россия</td>\n",
       "      <td>Дагдизель (футбольный клуб)</td>\n",
       "    </tr>\n",
       "    <tr>\n",
       "      <th>235</th>\n",
       "      <td>Красногвардеец (футбольный клуб)</td>\n",
       "      <td>None</td>\n",
       "      <td>None</td>\n",
       "      <td>Россия</td>\n",
       "      <td>Красногвардеец (футбольный клуб)</td>\n",
       "    </tr>\n",
       "    <tr>\n",
       "      <th>492</th>\n",
       "      <td>Диана (футбольный клуб, Волжск)</td>\n",
       "      <td>None</td>\n",
       "      <td>None</td>\n",
       "      <td>Россия</td>\n",
       "      <td>Диана (футбольный клуб)</td>\n",
       "    </tr>\n",
       "    <tr>\n",
       "      <th>57</th>\n",
       "      <td>СКД (футбольный клуб)</td>\n",
       "      <td>None</td>\n",
       "      <td>None</td>\n",
       "      <td>Россия</td>\n",
       "      <td>СКД (футбольный клуб)</td>\n",
       "    </tr>\n",
       "    <tr>\n",
       "      <th>272</th>\n",
       "      <td>Содовик</td>\n",
       "      <td>https://ru.wikipedia.org/wiki/Special:FilePath...</td>\n",
       "      <td>Стерлитамак</td>\n",
       "      <td>Россия</td>\n",
       "      <td>Содовик (футбольный клуб)</td>\n",
       "    </tr>\n",
       "  </tbody>\n",
       "</table>\n",
       "</div>"
      ],
      "text/plain": [
       "                            teamLabel  \\\n",
       "40           Галакс (футбольный клуб)   \n",
       "404                            Горняк   \n",
       "509                     Локомотив-КМВ   \n",
       "296                           Акрон-2   \n",
       "277                   Красный-СГАФКСТ   \n",
       "313                         Дагдизель   \n",
       "235  Красногвардеец (футбольный клуб)   \n",
       "492   Диана (футбольный клуб, Волжск)   \n",
       "57              СКД (футбольный клуб)   \n",
       "272                           Содовик   \n",
       "\n",
       "                                                  logo         city country  \\\n",
       "40                                                None         None  Россия   \n",
       "404                                               None         None  Россия   \n",
       "509                                               None         None  Россия   \n",
       "296  https://ru.wikipedia.org/wiki/Special:FilePath...         None  Россия   \n",
       "277  https://ru.wikipedia.org/wiki/Special:FilePath...     Смоленск  Россия   \n",
       "313  https://ru.wikipedia.org/wiki/Special:FilePath...         None  Россия   \n",
       "235                                               None         None  Россия   \n",
       "492                                               None         None  Россия   \n",
       "57                                                None         None  Россия   \n",
       "272  https://ru.wikipedia.org/wiki/Special:FilePath...  Стерлитамак  Россия   \n",
       "\n",
       "                                          wikiPage  \n",
       "40                                          Галакс  \n",
       "404             Горняк (футбольный клуб, Качканар)  \n",
       "509  Локомотив (футбольный клуб, Минеральные Воды)  \n",
       "296                                        Акрон-2  \n",
       "277                      Красный (футбольный клуб)  \n",
       "313                    Дагдизель (футбольный клуб)  \n",
       "235               Красногвардеец (футбольный клуб)  \n",
       "492                        Диана (футбольный клуб)  \n",
       "57                           СКД (футбольный клуб)  \n",
       "272                      Содовик (футбольный клуб)  "
      ]
     },
     "execution_count": 217,
     "metadata": {},
     "output_type": "execute_result"
    }
   ],
   "source": [
    "# Преобразуем в датафрейм\n",
    "df_clubs = pd.DataFrame(clubs)\n",
    "df_clubs.sample(10)"
   ]
  },
  {
   "cell_type": "markdown",
   "id": "4de7b735-2b61-4b45-b63e-3b8450dbea43",
   "metadata": {},
   "source": [
    "Количество команд без логотипов"
   ]
  },
  {
   "cell_type": "code",
   "execution_count": 218,
   "id": "ad6c9f20-c59a-4016-92d5-b1519a81abc5",
   "metadata": {
    "tags": []
   },
   "outputs": [
    {
     "data": {
      "text/plain": [
       "232"
      ]
     },
     "execution_count": 218,
     "metadata": {},
     "output_type": "execute_result"
    }
   ],
   "source": [
    "df_clubs['logo'].notna().sum()"
   ]
  },
  {
   "cell_type": "code",
   "execution_count": 219,
   "id": "1942253a-e93c-4931-8713-751c2338bf7d",
   "metadata": {
    "tags": []
   },
   "outputs": [
    {
     "data": {
      "text/html": [
       "<div>\n",
       "<style scoped>\n",
       "    .dataframe tbody tr th:only-of-type {\n",
       "        vertical-align: middle;\n",
       "    }\n",
       "\n",
       "    .dataframe tbody tr th {\n",
       "        vertical-align: top;\n",
       "    }\n",
       "\n",
       "    .dataframe thead th {\n",
       "        text-align: right;\n",
       "    }\n",
       "</style>\n",
       "<table border=\"1\" class=\"dataframe\">\n",
       "  <thead>\n",
       "    <tr style=\"text-align: right;\">\n",
       "      <th></th>\n",
       "      <th>teamLabel</th>\n",
       "      <th>logo</th>\n",
       "      <th>city</th>\n",
       "      <th>country</th>\n",
       "      <th>wikiPage</th>\n",
       "    </tr>\n",
       "  </thead>\n",
       "  <tbody>\n",
       "    <tr>\n",
       "      <th>124</th>\n",
       "      <td>Химик (футбольный клуб, Дзержинск)</td>\n",
       "      <td>https://ru.wikipedia.org/wiki/Special:FilePath...</td>\n",
       "      <td>Дзержинск</td>\n",
       "      <td>Россия</td>\n",
       "      <td>Химик (футбольный клуб, Дзержинск)</td>\n",
       "    </tr>\n",
       "    <tr>\n",
       "      <th>100</th>\n",
       "      <td>Севастополь</td>\n",
       "      <td>https://ru.wikipedia.org/wiki/Special:FilePath...</td>\n",
       "      <td>Севастополь</td>\n",
       "      <td>Россия</td>\n",
       "      <td>Севастополь (футбольный клуб, 2014)</td>\n",
       "    </tr>\n",
       "    <tr>\n",
       "      <th>392</th>\n",
       "      <td>Кубань</td>\n",
       "      <td>https://ru.wikipedia.org/wiki/Special:FilePath...</td>\n",
       "      <td>Краснодар</td>\n",
       "      <td>Россия</td>\n",
       "      <td>Кубань (футбольный клуб)</td>\n",
       "    </tr>\n",
       "    <tr>\n",
       "      <th>272</th>\n",
       "      <td>Содовик</td>\n",
       "      <td>https://ru.wikipedia.org/wiki/Special:FilePath...</td>\n",
       "      <td>Стерлитамак</td>\n",
       "      <td>Россия</td>\n",
       "      <td>Содовик (футбольный клуб)</td>\n",
       "    </tr>\n",
       "    <tr>\n",
       "      <th>266</th>\n",
       "      <td>Коломна</td>\n",
       "      <td>https://ru.wikipedia.org/wiki/Special:FilePath...</td>\n",
       "      <td>Коломна</td>\n",
       "      <td>Россия</td>\n",
       "      <td>Коломна (футбольный клуб)</td>\n",
       "    </tr>\n",
       "    <tr>\n",
       "      <th>366</th>\n",
       "      <td>Лада-Тольятти</td>\n",
       "      <td>https://ru.wikipedia.org/wiki/Special:FilePath...</td>\n",
       "      <td>Тольятти</td>\n",
       "      <td>Россия</td>\n",
       "      <td>Лада-Тольятти</td>\n",
       "    </tr>\n",
       "    <tr>\n",
       "      <th>170</th>\n",
       "      <td>Текстильщик</td>\n",
       "      <td>https://ru.wikipedia.org/wiki/Special:FilePath...</td>\n",
       "      <td>Иваново</td>\n",
       "      <td>Россия</td>\n",
       "      <td>Текстильщик (футбольный клуб, Иваново)</td>\n",
       "    </tr>\n",
       "    <tr>\n",
       "      <th>335</th>\n",
       "      <td>Челябинск</td>\n",
       "      <td>https://ru.wikipedia.org/wiki/Special:FilePath...</td>\n",
       "      <td>Челябинск</td>\n",
       "      <td>Россия</td>\n",
       "      <td>Челябинск (футбольный клуб)</td>\n",
       "    </tr>\n",
       "    <tr>\n",
       "      <th>7</th>\n",
       "      <td>Волочанин-Ратмир</td>\n",
       "      <td>https://ru.wikipedia.org/wiki/Special:FilePath...</td>\n",
       "      <td>Вышний Волочёк</td>\n",
       "      <td>Россия</td>\n",
       "      <td>Волочанин</td>\n",
       "    </tr>\n",
       "    <tr>\n",
       "      <th>164</th>\n",
       "      <td>Ижевск</td>\n",
       "      <td>https://ru.wikipedia.org/wiki/Special:FilePath...</td>\n",
       "      <td>Ижевск</td>\n",
       "      <td>Россия</td>\n",
       "      <td>Ижевск (футбольный клуб)</td>\n",
       "    </tr>\n",
       "  </tbody>\n",
       "</table>\n",
       "</div>"
      ],
      "text/plain": [
       "                              teamLabel  \\\n",
       "124  Химик (футбольный клуб, Дзержинск)   \n",
       "100                         Севастополь   \n",
       "392                              Кубань   \n",
       "272                             Содовик   \n",
       "266                             Коломна   \n",
       "366                       Лада-Тольятти   \n",
       "170                         Текстильщик   \n",
       "335                           Челябинск   \n",
       "7                      Волочанин-Ратмир   \n",
       "164                              Ижевск   \n",
       "\n",
       "                                                  logo            city  \\\n",
       "124  https://ru.wikipedia.org/wiki/Special:FilePath...       Дзержинск   \n",
       "100  https://ru.wikipedia.org/wiki/Special:FilePath...     Севастополь   \n",
       "392  https://ru.wikipedia.org/wiki/Special:FilePath...       Краснодар   \n",
       "272  https://ru.wikipedia.org/wiki/Special:FilePath...     Стерлитамак   \n",
       "266  https://ru.wikipedia.org/wiki/Special:FilePath...         Коломна   \n",
       "366  https://ru.wikipedia.org/wiki/Special:FilePath...        Тольятти   \n",
       "170  https://ru.wikipedia.org/wiki/Special:FilePath...         Иваново   \n",
       "335  https://ru.wikipedia.org/wiki/Special:FilePath...       Челябинск   \n",
       "7    https://ru.wikipedia.org/wiki/Special:FilePath...  Вышний Волочёк   \n",
       "164  https://ru.wikipedia.org/wiki/Special:FilePath...          Ижевск   \n",
       "\n",
       "    country                                wikiPage  \n",
       "124  Россия      Химик (футбольный клуб, Дзержинск)  \n",
       "100  Россия     Севастополь (футбольный клуб, 2014)  \n",
       "392  Россия                Кубань (футбольный клуб)  \n",
       "272  Россия               Содовик (футбольный клуб)  \n",
       "266  Россия               Коломна (футбольный клуб)  \n",
       "366  Россия                           Лада-Тольятти  \n",
       "170  Россия  Текстильщик (футбольный клуб, Иваново)  \n",
       "335  Россия             Челябинск (футбольный клуб)  \n",
       "7    Россия                               Волочанин  \n",
       "164  Россия                Ижевск (футбольный клуб)  "
      ]
     },
     "execution_count": 219,
     "metadata": {},
     "output_type": "execute_result"
    }
   ],
   "source": [
    "# Убираем команды без логотипов и без городов\n",
    "df_clubs = df_clubs[~df_clubs['logo'].isna() & ~df_clubs['city'].isna()]\n",
    "df_clubs.sample(10)"
   ]
  },
  {
   "cell_type": "markdown",
   "id": "1f7fcbf3-4423-411c-a3e3-d2400e6a5112",
   "metadata": {},
   "source": [
    "Количество клубов"
   ]
  },
  {
   "cell_type": "code",
   "execution_count": 223,
   "id": "60eaa6bf-494a-4a52-ab1d-47c04b9ccaf4",
   "metadata": {
    "tags": []
   },
   "outputs": [
    {
     "data": {
      "text/plain": [
       "147"
      ]
     },
     "execution_count": 223,
     "metadata": {},
     "output_type": "execute_result"
    }
   ],
   "source": [
    "len(df_clubs['city'])"
   ]
  },
  {
   "cell_type": "markdown",
   "id": "8e78869b-5556-46bf-a7f1-d6a4d690484f",
   "metadata": {},
   "source": [
    "Охват по городам"
   ]
  },
  {
   "cell_type": "code",
   "execution_count": 220,
   "id": "0dae919d-6071-4db8-a2f8-d445289999ed",
   "metadata": {
    "tags": []
   },
   "outputs": [
    {
     "data": {
      "text/plain": [
       "101"
      ]
     },
     "execution_count": 220,
     "metadata": {},
     "output_type": "execute_result"
    }
   ],
   "source": [
    "df_clubs['city'].nunique()"
   ]
  },
  {
   "cell_type": "markdown",
   "id": "9234abf3-bca1-46ba-b4c1-8c90c6c47a09",
   "metadata": {
    "tags": []
   },
   "source": [
    "Распределение по городам"
   ]
  },
  {
   "cell_type": "code",
   "execution_count": 221,
   "id": "5e54a7a0-1160-4922-815b-4e8e72b2e8d2",
   "metadata": {
    "tags": []
   },
   "outputs": [
    {
     "data": {
      "text/plain": [
       "Москва             14\n",
       "Краснодар           6\n",
       "Санкт-Петербург     4\n",
       "Нижний Новгород     4\n",
       "Тольятти            3\n",
       "Тамбов              3\n",
       "Ижевск              3\n",
       "Махачкала           3\n",
       "Смоленск            2\n",
       "Ставрополь          2\n",
       "Name: city, dtype: int64"
      ]
     },
     "execution_count": 221,
     "metadata": {},
     "output_type": "execute_result"
    }
   ],
   "source": [
    "df_clubs['city'].value_counts().head(10)"
   ]
  },
  {
   "cell_type": "code",
   "execution_count": 222,
   "id": "3b618858-fabd-46ee-b989-c635f7698119",
   "metadata": {
    "tags": []
   },
   "outputs": [
    {
     "name": "stdout",
     "output_type": "stream",
     "text": [
      "Волгодонск, Атоммаш (футбольный клуб), https://ru.wikipedia.org/wiki/Special:FilePath/FC_Atommash_Logo.svg\n",
      "Вышний Волочёк, Волочанин-Ратмир, https://ru.wikipedia.org/wiki/Special:FilePath/Logo_volochanin-ratmir_vyshnij_voloch.gif\n",
      "Саратов, Сокол, https://ru.wikipedia.org/wiki/Special:FilePath/FC_Sokol_Saratov_Logo.svg\n",
      "Крымск, Витязь (футбольный клуб, Крымск), https://ru.wikipedia.org/wiki/Special:FilePath/Vityaz_Krymsk_logo.png\n",
      "Омск, Иртыш, https://ru.wikipedia.org/wiki/Special:FilePath/FC_Irtysh_Omsk_Logo.svg\n",
      "Краснодар, Краснодар-2 (футбольный клуб), https://ru.wikipedia.org/wiki/Special:FilePath/FC_Krasnodar_Logo.svg\n",
      "Тихвин, Тосно, https://ru.wikipedia.org/wiki/Special:FilePath/FC_Tosno_Logo.svg\n",
      "Белгород, Салют, https://ru.wikipedia.org/wiki/Special:FilePath/FC_Salyut_Belgorod_Logo.svg\n",
      "Воронеж, Факел, https://ru.wikipedia.org/wiki/Special:FilePath/FC_Fakel_Voronezh_logo_2022.svg\n",
      "Чита, Чита, https://ru.wikipedia.org/wiki/Special:FilePath/Logo_of_FC_Chita_(2005).gif\n",
      "Афипский, Афипс, https://ru.wikipedia.org/wiki/Special:FilePath/FC_Afips_logo.png\n",
      "Воронеж, Факел-Воронеж, https://ru.wikipedia.org/wiki/Special:FilePath/Logo_fakel-voronezh.gif\n",
      "Домодедово, Домодедово, https://ru.wikipedia.org/wiki/Special:FilePath/Domodedovo_2014_logo.png\n",
      "Майкоп, Дружба, https://ru.wikipedia.org/wiki/Special:FilePath/Druzhba_logo_2017.png\n",
      "Севастополь, Севастополь, https://ru.wikipedia.org/wiki/Special:FilePath/FC_Sevastopol_Logo.svg\n",
      "Курск, Авангард, https://ru.wikipedia.org/wiki/Special:FilePath/FC_Avangard_Kursk_Logo.svg\n",
      "Химки, Химки, https://ru.wikipedia.org/wiki/Special:FilePath/Kit_shorts_pumawithwhitelogo.png\n",
      "Армавир, Торпедо, https://ru.wikipedia.org/wiki/Special:FilePath/Torpedo_Armavir_Logo.gif\n",
      "Рязань, Спартак-МЖК, https://ru.wikipedia.org/wiki/Special:FilePath/Logo_Spartak_mgk.gif\n",
      "Набережные Челны, КАМАЗ, https://ru.wikipedia.org/wiki/Special:FilePath/FC_KAMAZ_Logo.svg\n",
      "Волгоград, Ротор-2, https://ru.wikipedia.org/wiki/Special:FilePath/Fc_Rotor_logo.png\n",
      "Новосибирск, Сибирь, https://ru.wikipedia.org/wiki/Special:FilePath/FC_Sibir_Novosibirsk_Logo.svg\n",
      "Дзержинск, Химик (футбольный клуб, Дзержинск), https://ru.wikipedia.org/wiki/Special:FilePath/FC_Khimik_Dzerzhinsk_Logo.svg\n",
      "Астрахань, Астрахань, https://ru.wikipedia.org/wiki/Special:FilePath/Astrakhan_SC_logo_2022.png\n",
      "Морозовск, АПК (футбольный клуб), https://ru.wikipedia.org/wiki/Special:FilePath/FC_APK_Morozovsk_Logo.svg\n",
      "Череповец, Шексна (футбольный клуб), https://ru.wikipedia.org/wiki/Special:FilePath/Sheksna_FC_logo.png\n",
      "Ижевск, Зенит-Ижевск, https://ru.wikipedia.org/wiki/Special:FilePath/FC_Zenit-Izhevsk_2020_logo.png\n",
      "Калуга, Калуга, https://ru.wikipedia.org/wiki/Special:FilePath/FC_Kaluga_Logo.svg\n",
      "Тула, Арсенал, https://ru.wikipedia.org/wiki/Special:FilePath/FC_Arsenal_Tula_Logo.svg\n",
      "Ижевск, Ижевск, https://ru.wikipedia.org/wiki/Special:FilePath/FC_Dynamo_Izhevsk_Logo.svg\n",
      "Моздок, Моздок, https://ru.wikipedia.org/wiki/Special:FilePath/FC_Mozdok_Logo.svg\n",
      "Новокузнецк, Металлург-Кузбасс, https://ru.wikipedia.org/wiki/Special:FilePath/FC_Novokuznetsk_2015_logo.png\n",
      "Элиста, Уралан, https://ru.wikipedia.org/wiki/Special:FilePath/Logo_of_FC_Elista.png\n",
      "Нижний Новгород, Локомотив-НН, https://ru.wikipedia.org/wiki/Special:FilePath/Lokomotiv-NN-logo.png\n",
      "Иваново, Текстильщик, https://ru.wikipedia.org/wiki/Special:FilePath/Kit_shorts_black_logo3.png\n",
      "Краснодар, Колос (футбольный клуб, Краснодар), https://ru.wikipedia.org/wiki/Special:FilePath/Kolos_Krasnodar_FC_logo.png\n",
      "Москва, Торпедо, http://commons.wikimedia.org/wiki/Special:FilePath/FC%20Torpedo%20Moscow%20Logotype%202023.png\n",
      "Нижний Новгород, Спартак, https://ru.wikipedia.org/wiki/Special:FilePath/Logo_spartak_nn1.gif\n",
      "Щёлково, Спартак, https://ru.wikipedia.org/wiki/Special:FilePath/FC_Spartak_Shchyolkovo_Logo.svg\n",
      "Камышин, Текстильщик, https://ru.wikipedia.org/wiki/Special:FilePath/Logo_Tekstilschik_Kamyshin.gif\n",
      "Пермь, Амкар, http://commons.wikimedia.org/wiki/Special:FilePath/Amkar%20FC%20logo%202021.png\n",
      "Орёл, Орёл, https://ru.wikipedia.org/wiki/Special:FilePath/FC_Orel_Logo.svg\n",
      "Москва, Спартак (женский футбольный клуб), https://ru.wikipedia.org/wiki/Special:FilePath/FC_Spartak_Moscow_Logotype.svg\n",
      "Москва, Москва, https://ru.wikipedia.org/wiki/Special:FilePath/FC_Moscow_Logo.svg\n",
      "Южно-Сахалинск, Сахалин, https://ru.wikipedia.org/wiki/Special:FilePath/SC_Sakhalin_logo.png\n",
      "Томск, Томь, https://ru.wikipedia.org/wiki/Special:FilePath/Tom_2008_logo.svg\n",
      "Раменское, Леон Сатурн, https://ru.wikipedia.org/wiki/Special:FilePath/Kit_socks_jomafootballwithwhitelogo.png\n",
      "Ульяновск, Волга, https://ru.wikipedia.org/wiki/Special:FilePath/Kit_shorts_jomafootballwhitelogo.png\n",
      "Иркутск, Звезда, https://ru.wikipedia.org/wiki/Special:FilePath/Zvezda_Irk_Logo.gif\n",
      "Курган, Тобол, https://ru.wikipedia.org/wiki/Special:FilePath/FC_Tobol_Kurgan_Logo.svg\n",
      "Владивосток, Луч, https://ru.wikipedia.org/wiki/Special:FilePath/FC_Luch-Energiya_Vladivostok_Logo.svg\n",
      "Красногорск, Зоркий (футбольный клуб), https://ru.wikipedia.org/wiki/Special:FilePath/FC_Zorky_logo.png\n",
      "Тольятти, Академия, https://ru.wikipedia.org/wiki/Special:FilePath/FC_Akademiya_Tolyatti_Logo.svg\n",
      "Самара, Крылья Советов, http://commons.wikimedia.org/wiki/Special:FilePath/Krylia%20Sovetov%20logo.png\n",
      "Лиски, Локомотив, https://ru.wikipedia.org/wiki/Special:FilePath/FC_Lokomotiv_Liski_Logo.svg\n",
      "Ногинск, Знамя, https://ru.wikipedia.org/wiki/Special:FilePath/FC_Znamya_Noginsk_logo.png\n",
      "Назрань, Ангушт, https://ru.wikipedia.org/wiki/Special:FilePath/FC_Angusht_Nazran_Logo.svg\n",
      "Москва, Сахалинец, https://ru.wikipedia.org/wiki/Special:FilePath/Sakhalinets_FC_logo_2020.png\n",
      "Ленинск-Кузнецкий, Заря, https://ru.wikipedia.org/wiki/Special:FilePath/FC_Zarya_Leninsk-Kuznetsky_Logo.svg\n",
      "Краснодар, Кубань, https://ru.wikipedia.org/wiki/Special:FilePath/LogoFCUrozhay2018.svg\n",
      "Саранск, Саранск, https://ru.wikipedia.org/wiki/Special:FilePath/Saransk_FC_logo_2021.png\n",
      "Долгопрудный, Космос (футбольный клуб, Долгопрудный), https://ru.wikipedia.org/wiki/Special:FilePath/Kosmos_Dolgoprudny_FC_logo_2022.svg\n",
      "Таганрог, Форте (футбольный клуб), https://ru.wikipedia.org/wiki/Special:FilePath/FC_Forte_Logo.svg\n",
      "Коломна, Коломна, https://ru.wikipedia.org/wiki/Special:FilePath/Kolomna_FC_logo_2020.png\n",
      "Новосибирск, ФК Сибирь, https://ru.wikipedia.org/wiki/Special:FilePath/Sibir_FC_logo_2024.png\n",
      "Санкт-Петербург, Локомотив, https://ru.wikipedia.org/wiki/Special:FilePath/FC_Lokomotiv_Saint_Petersburg_Logo.svg\n",
      "Стерлитамак, Содовик, https://ru.wikipedia.org/wiki/Special:FilePath/Logo_Sodovik.gif\n",
      "Киров, Динамо, https://ru.wikipedia.org/wiki/Special:FilePath/FC_Dynamo_Kirov_Logo.svg\n",
      "Павловский Посад, Композит, https://ru.wikipedia.org/wiki/Special:FilePath/Kompozit_FC_logo_2023.png\n",
      "Смоленск, Красный-СГАФКСТ, https://ru.wikipedia.org/wiki/Special:FilePath/Krasnyi-SGAFKST_FC_logo.png\n",
      "Смоленск, Смоленск (футбольный клуб, 2018), https://ru.wikipedia.org/wiki/Special:FilePath/Smolensk_FC_logo_2018.png\n",
      "Астрахань, Волгарь, https://ru.wikipedia.org/wiki/Special:FilePath/FC_Volgar_Logo_2019.svg\n",
      "Тамбов, Спартак, https://ru.wikipedia.org/wiki/Special:FilePath/Logo_spartak_tambov_2010.gif\n",
      "Вурнары, Химик-Август, https://ru.wikipedia.org/wiki/Special:FilePath/Khimik-Avgust_FC_logo_2021.png\n",
      "Тольятти, Акрон, http://commons.wikimedia.org/wiki/Special:FilePath/Akron%20Togliatti.png\n",
      "Тверь, Тверь (футбольный клуб), https://ru.wikipedia.org/wiki/Special:FilePath/Tver_FC_logo_2020.png\n",
      "Подольск, Витязь, https://ru.wikipedia.org/wiki/Special:FilePath/New_fc_vityaz_logo_2011.png\n",
      "Балашиха, Балашиха, https://ru.wikipedia.org/wiki/Special:FilePath/Balashikha_FC_logo_2018.png\n",
      "Павловская, Кубань Холдинг, http://commons.wikimedia.org/wiki/Special:FilePath/KubanHoldingLogo2018.png\n",
      "Махачкала, Махачкала (футбольный клуб), https://ru.wikipedia.org/wiki/Special:FilePath/Makhachkala_SC_logo_2019.png\n",
      "Уфа, Уфа, http://commons.wikimedia.org/wiki/Special:FilePath/FC%20Ufa%20logo.svg\n",
      "Туапсе, Туапсе (футбольный клуб), https://ru.wikipedia.org/wiki/Special:FilePath/Tuapse_FC_logo_2020.png\n",
      "Черкесск, Интер (футбольный клуб, Черкесск), https://ru.wikipedia.org/wiki/Special:FilePath/Inter_Cherkessk_FC_logo_2019.png\n",
      "Москва, 2DROTS, https://ru.wikipedia.org/wiki/Special:FilePath/Kit_socks_Nike_blacklogo.png\n",
      "Химки, Олимп (футбольный клуб, Химки), https://ru.wikipedia.org/wiki/Special:FilePath/Olimp_Khimki_FC_logo_2018.png\n",
      "Каменск-Шахтинский, Строитель, https://ru.wikipedia.org/wiki/Special:FilePath/FC_Stroitel_Kamensk-Shakhtinsky_Logo.svg\n",
      "Владикавказ, Автодор, https://ru.wikipedia.org/wiki/Special:FilePath/FC_Avtodor_Vladikavkaz_Logo.svg\n",
      "Ессентуки, Ессентуки (футбольный клуб), https://ru.wikipedia.org/wiki/Special:FilePath/Yessentuki_FC_logo.png\n",
      "Тамбов, Спартак (футбольный клуб, Тамбов, 2022), https://ru.wikipedia.org/wiki/Special:FilePath/Spartak_Tambov_FC_logo_2022.png\n",
      "Москва, ФШМ, https://ru.wikipedia.org/wiki/Special:FilePath/Fshm_logo159.gif\n",
      "Москва, Спортакадемклуб, https://ru.wikipedia.org/wiki/Special:FilePath/Logo_sportakademklub_moskva.gif\n",
      "Ставрополь, Кавказтрансгаз-2005, https://ru.wikipedia.org/wiki/Special:FilePath/Logo_kavkaztransgaz-2005_ryzdvjanyj.gif\n",
      "Ковернино, Волна (футбольный клуб, Нижегородская область), https://ru.wikipedia.org/wiki/Special:FilePath/Volna_NN_FC_logo_2024.png\n",
      "Оренбург, Оренбург, https://ru.wikipedia.org/wiki/Special:FilePath/FC_Orenburg_Logo.svg\n",
      "Московская область, Космос (футбольный клуб, Долгопрудный), https://ru.wikipedia.org/wiki/Special:FilePath/Kosmos_Dolgoprudny_FC_logo_2022.svg\n",
      "Краснодар, Краснодар-2000, https://ru.wikipedia.org/wiki/Special:FilePath/Logo_krasnodar-2000_krasnodar.gif\n",
      "Челябинск, Челябинск, https://ru.wikipedia.org/wiki/Special:FilePath/FC_Chelyabinsk_Logo.svg\n",
      "Кострома, Спартак, https://ru.wikipedia.org/wiki/Special:FilePath/FC_Spartak_Kostroma_Logo_2022.svg\n",
      "Хасавюрт, Победа, https://ru.wikipedia.org/wiki/Special:FilePath/Pobeda_Khasavyurt_FC_logo_2023.png\n",
      "Братск, Сибиряк, https://ru.wikipedia.org/wiki/Special:FilePath/Logo_sibirjak_bratsk.gif\n",
      "Таганрог, Таганрог, https://ru.wikipedia.org/wiki/Special:FilePath/Logo_of_FC_Taganrog.gif\n",
      "Вологда, Динамо, https://ru.wikipedia.org/wiki/Special:FilePath/Dynamo_Vologda_FC_logo_2022.png\n",
      "Владимир, Торпедо, http://commons.wikimedia.org/wiki/Special:FilePath/Torpedo%20Vladimir.svg\n",
      "Калининград, Балтика, http://commons.wikimedia.org/wiki/Special:FilePath/BaltykaFCLogo2018.png\n",
      "Тольятти, Лада-Тольятти, https://ru.wikipedia.org/wiki/Special:FilePath/FC_Lada_Togliatti_Logo.svg\n",
      "Ярославль, Шинник, https://ru.wikipedia.org/wiki/Special:FilePath/Fc-shinnik-logo-61.png\n",
      "Рязань, Рязань, https://ru.wikipedia.org/wiki/Special:FilePath/FC_Ryazan_Logo.svg\n",
      "Брянск, Динамо, https://ru.wikipedia.org/wiki/Special:FilePath/Dynamo_Bryansk_Logo.svg\n",
      "Москва, Спартак, https://ru.wikipedia.org/wiki/Special:FilePath/FC_Spartak_Moscow_(1935—1949)_Logo.png\n",
      "Москва, Динамо, https://ru.wikipedia.org/wiki/Special:FilePath/Dinamo_Leningrad_(logo).svg\n",
      "Тамбов, Тамбов, https://ru.wikipedia.org/wiki/Special:FilePath/Tambov_FC_logo_2020.png\n",
      "Краснодар, Кубань, https://ru.wikipedia.org/wiki/Special:FilePath/FC_Kuban_neof_logo.gif\n",
      "Санкт-Петербург, Динамо, http://commons.wikimedia.org/wiki/Special:FilePath/OHK%20Dynamo%20logo.svg\n",
      "Песчанокопское, Чайка, http://commons.wikimedia.org/wiki/Special:FilePath/FCChayka2020.png\n",
      "Санкт-Петербург, Зенит, http://commons.wikimedia.org/wiki/Special:FilePath/FC%20Zenit%201%20star%202015%20logo.svg\n",
      "Ногинск, Надежда (футбольный клуб, Ногинск), https://ru.wikipedia.org/wiki/Special:FilePath/Logo_Nadezhda.jpg\n",
      "Набережные Челны, ФК КАМАЗ, https://ru.wikipedia.org/wiki/Special:FilePath/FC_KAMAZ_Logo.svg\n",
      "Нижний Новгород, Пари Нижний Новгород, https://ru.wikipedia.org/wiki/Special:FilePath/FC_Pari_NN_Logo_2023.svg\n",
      "Москва, Локомотив, https://ru.wikipedia.org/wiki/Special:FilePath/FC_Lokomotiv_Moscow_Logo.svg\n",
      "Махачкала, Анжи, https://ru.wikipedia.org/wiki/Special:FilePath/FC_Anzhi_Makhachkala_Logo.svg\n",
      "Екатеринбург, Урал, https://ru.wikipedia.org/wiki/Special:FilePath/FC_Ural_Logo.svg\n",
      "Ставрополь, Динамо, https://ru.wikipedia.org/wiki/Special:FilePath/FC_Dynamo_Stavropol_Logo.svg\n",
      "Благовещенск, Амур, https://ru.wikipedia.org/wiki/Special:FilePath/FC_Amur_Balgoveschensk_Logo.png\n",
      "Хабаровск, СКА-Хабаровск, https://ru.wikipedia.org/wiki/Special:FilePath/FC_SKA-Khabarovsk_Logo.svg\n",
      "Саранск, Мордовия, https://ru.wikipedia.org/wiki/Special:FilePath/Fcm_logo15sm.jpg\n",
      "Волгоград, Ротор, https://ru.wikipedia.org/wiki/Special:FilePath/Rotor_logo.svg\n",
      "Новороссийск, Черноморец, https://ru.wikipedia.org/wiki/Special:FilePath/FC_Chernomorets_Novorossiysk_Logo.svg\n",
      "Муром, Муром, https://ru.wikipedia.org/wiki/Special:FilePath/FC_Murom_Logo.svg\n",
      "Красноярск, Енисей, https://ru.wikipedia.org/wiki/Special:FilePath/FC_Yenisey_Logo.svg\n",
      "Москва, Крылья Советов, http://commons.wikimedia.org/wiki/Special:FilePath/Dush57.svg\n",
      "Пятигорск, Машук-КМВ, https://ru.wikipedia.org/wiki/Special:FilePath/FC_Mashuk-KMV_Logo.svg\n",
      "Москва, Чертаново, http://commons.wikimedia.org/wiki/Special:FilePath/Chertanovo%20FC%20logo%202021.png\n",
      "Сочи, Сочи, https://ru.wikipedia.org/wiki/Special:FilePath/FC_Sochi_Logo.svg\n",
      "Махачкала, Динамо, https://ru.wikipedia.org/wiki/Special:FilePath/FC_Dynamo_Makhachkala_Logo.svg\n",
      "Ижевск, СОЮЗ-Газпром, https://ru.wikipedia.org/wiki/Special:FilePath/FC_Soyuz-Gazprom_Logo.svg\n",
      "Грозный, Ахмат, https://ru.wikipedia.org/wiki/Special:FilePath/FC_Akhmat_Grozny_Logo.svg\n",
      "Санкт-Петербург, Ленинградец (футбольный клуб), https://ru.wikipedia.org/wiki/Special:FilePath/FC_Leningradets_Logo.svg\n",
      "Казань, Рубин, https://ru.wikipedia.org/wiki/Special:FilePath/LogoRubin1996.png\n",
      "Москва, ЦСКА, https://ru.wikipedia.org/wiki/Special:FilePath/FC_CSKA_Moscow_Logo.svg\n",
      "Нижнекамск, Нефтехимик, https://ru.wikipedia.org/wiki/Special:FilePath/FC_Neftekhimik_Nizhnekamsk_Logo.svg\n",
      "Нальчик, Спартак-Нальчик, https://ru.wikipedia.org/wiki/Special:FilePath/FC_Spartak_Nalchik_Logo.svg\n",
      "Нижний Новгород, Волга, https://ru.wikipedia.org/wiki/Special:FilePath/Volga_Nizhny_Novgorod_logo.svg\n",
      "Москва, Пресня, https://ru.wikipedia.org/wiki/Special:FilePath/Logo_of_FC_Presnya_Moscow.png\n",
      "Краснодар, Краснодар, https://ru.wikipedia.org/wiki/Special:FilePath/FC_Krasnodar_Logo.svg\n",
      "Владикавказ, Алания, https://ru.wikipedia.org/wiki/Special:FilePath/FC_Alania_Vladikavkaz_Logo.svg\n",
      "Калуга, Локомотив, https://ru.wikipedia.org/wiki/Special:FilePath/Lokomotiv_Kaluga_logo.jpg\n",
      "Чебоксары, Азамат, https://ru.wikipedia.org/wiki/Special:FilePath/FC_Azamat_Logo.svg\n"
     ]
    }
   ],
   "source": [
    "# Выведем итоговый список городов с логотипами команд\n",
    "for club in df_clubs.iterrows():\n",
    "    print(club[1]['city'] + ', ' + club[1]['teamLabel'] + ', ' + club[1]['logo'])"
   ]
  },
  {
   "cell_type": "markdown",
   "id": "453ed52b-19b6-4132-8b9e-7562a1482a07",
   "metadata": {},
   "source": [
    "## Вывод\n",
    "\n",
    "Из данных Wikidata и Wikipedia Мы получиили данные о 554 футбольных командах в России. Оформленным (с логотипом и названием города) оказалось 147 клубов из 101 города. Из которых 14 приходится на Москву, 6 на Краснодар, 4 на Санкт-Петербург, 4 на Нижний Новгород, для остальных городов количество команд меньше."
   ]
  },
  {
   "cell_type": "code",
   "execution_count": null,
   "id": "e1f4a967-6e4b-47e4-8657-c2527ae49188",
   "metadata": {},
   "outputs": [],
   "source": []
  }
 ],
 "metadata": {
  "kernelspec": {
   "display_name": "Python 3 (ipykernel)",
   "language": "python",
   "name": "python3"
  },
  "language_info": {
   "codemirror_mode": {
    "name": "ipython",
    "version": 3
   },
   "file_extension": ".py",
   "mimetype": "text/x-python",
   "name": "python",
   "nbconvert_exporter": "python",
   "pygments_lexer": "ipython3",
   "version": "3.11.4"
  }
 },
 "nbformat": 4,
 "nbformat_minor": 5
}
